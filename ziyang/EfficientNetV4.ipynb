{
 "cells": [
  {
   "cell_type": "markdown",
   "metadata": {
    "editable": false
   },
   "source": [
    "# TPU Training Code for EfficientNet B4\n",
    "* Sigmoid Focal Cross Entropy Loss with Label Smoothing 0.1\n",
    "* Learning Rate Sheduler with Warmup and Cosine Decay\n",
    "* Light augmentations (Flipping, Saturation...) - No CutOut/CutMix\n",
    "* 20 epochs CV (using predefined folds so that it was easier to ensemble different models). Callback for saving weights of best epoch\n",
    "* Final model was trained using best avg. number of epochs in CV phase (in this case 14)\n",
    "* TF Records from 2020 competition dataset using the 512x512px images. Smaller resolutions have tended to degrade the model.\n",
    " \n",
    "\n",
    "Special thanks to [Mark Wijkhuizen](https://www.kaggle.com/markwijkhuizen/tf-efficientnetb4-mixup-cutmix-gridmask-cv-0-90) from whose notebook the learning rate timer originates and to [ragner123](https://www.kaggle.com/ragnar123/effb5-cv-0-9007-single-model-tf) from whom I borrowed some of the TPU image augmentations (including parameters)."
   ]
  },
  {
   "cell_type": "code",
   "execution_count": 1,
   "metadata": {
    "editable": false,
    "trusted": true
   },
   "outputs": [],
   "source": [
    "import os\n",
    "import json\n",
    "import sys\n",
    "import random\n",
    "import pandas as pd\n",
    "import numpy as np\n",
    "import tensorflow as tf\n",
    "import itertools\n",
    "import joblib\n",
    "import math\n",
    "from sklearn.model_selection import KFold\n",
    "from tensorflow import keras\n",
    "from tensorflow.keras.experimental import CosineDecay\n",
    "from tensorflow.keras.callbacks import ModelCheckpoint, EarlyStopping\n",
    "from tensorflow.keras import backend as K\n",
    "from PIL import Image\n",
    "from functools import partial"
   ]
  },
  {
   "cell_type": "code",
   "execution_count": 2,
   "metadata": {},
   "outputs": [
    {
     "name": "stdout",
     "output_type": "stream",
     "text": [
      "TensorFlow version: 2.4.1\n",
      "Num GPUs Available: 1\n",
      "GPU device: PhysicalDevice(name='/physical_device:GPU:0', device_type='GPU')\n"
     ]
    }
   ],
   "source": [
    "import tensorflow as tf\n",
    "\n",
    "print(\"TensorFlow version:\", tf.__version__)\n",
    "print(\"Num GPUs Available:\", len(tf.config.list_physical_devices('GPU')))\n",
    "\n",
    "# 顯示詳細 GPU 裝置資訊\n",
    "gpus = tf.config.list_physical_devices('GPU')\n",
    "for gpu in gpus:\n",
    "    print(\"GPU device:\", gpu)"
   ]
  },
  {
   "cell_type": "code",
   "execution_count": 3,
   "metadata": {
    "editable": false,
    "trusted": true
   },
   "outputs": [
    {
     "data": {
      "text/plain": [
       "'2.4.1'"
      ]
     },
     "execution_count": 3,
     "metadata": {},
     "output_type": "execute_result"
    }
   ],
   "source": [
    "tf.__version__"
   ]
  },
  {
   "cell_type": "code",
   "execution_count": 4,
   "metadata": {
    "editable": false,
    "trusted": true
   },
   "outputs": [],
   "source": [
    "try:\n",
    "    tpu = tf.distribute.cluster_resolver.TPUClusterResolver()\n",
    "    print('Device:', tpu.master())\n",
    "    tf.config.experimental_connect_to_cluster(tpu)\n",
    "    tf.tpu.experimental.initialize_tpu_system(tpu)\n",
    "    strategy = tf.distribute.experimental.TPUStrategy(tpu)\n",
    "    DEVICE = \"TPU\"\n",
    "except:\n",
    "    DEVICE = \"notTPU\"\n",
    "    strategy = tf.distribute.get_strategy()\n",
    "\n",
    "AUTOTUNE = tf.data.experimental.AUTOTUNE\n",
    "GCS_PATH = f'../input/cassava-leaf-disease-classification'\n",
    "REPLICAS =  strategy.num_replicas_in_sync\n",
    "BATCH_SIZE = 16 * strategy.num_replicas_in_sync\n",
    "FILENAMES = tf.io.gfile.glob(GCS_PATH + '/train_tfrecords/*.tfrec')\n",
    "\n",
    "LR = 2e-6 * REPLICAS\n",
    "EPOCHS = 20\n",
    "\n",
    "img_size = (512, 512)\n",
    "default_img_size = (512, 512) "
   ]
  },
  {
   "cell_type": "markdown",
   "metadata": {
    "editable": false
   },
   "source": [
    "# Loading data and use light image augmentations"
   ]
  },
  {
   "cell_type": "code",
   "execution_count": 5,
   "metadata": {
    "editable": false,
    "trusted": true
   },
   "outputs": [],
   "source": [
    "def decode_image(image, img_size):\n",
    "    image = tf.image.decode_jpeg(image, channels=3)\n",
    "    if img_size != default_img_size:\n",
    "        image = tf.image.resize(image, img_size)\n",
    "    image = tf.cast(image, tf.bfloat16)\n",
    "    return tf.reshape(image, [*img_size, 3])\n",
    "\n",
    "def _parse_image(proto, train):\n",
    "    features = {\"image_name\": tf.io.FixedLenFeature([], tf.string),\n",
    "                \"image\": tf.io.FixedLenFeature([], tf.string)}\n",
    "    if train:\n",
    "        features[\"target\"] = tf.io.FixedLenFeature([], tf.int64)\n",
    "    return tf.io.parse_single_example(proto, features)\n",
    "\n",
    "def get_image_and_label(proto, train, img_size):\n",
    "    sample = _parse_image(proto, train=train)\n",
    "    sample[\"image\"] = decode_image(sample[\"image\"], img_size)\n",
    "    if train:\n",
    "        return sample[\"image\"], tf.one_hot(tf.cast(sample['target'], tf.int32), 5)\n",
    "    return sample[\"image\"], sample[\"image_name\"]\n",
    "\n",
    "\n",
    "def image_augmentations(image,label):\n",
    "    \n",
    "    image = tf.image.random_flip_left_right(image)\n",
    "    image = tf.image.random_flip_up_down(image)\n",
    "    \n",
    "    if tf.random.uniform([], 0, 1.0, dtype = tf.float32) > 0.75:\n",
    "        image = tf.image.transpose(image)\n",
    "    \n",
    "    probablity_rotation = tf.random.uniform([], 0, 1.0, dtype = tf.float32)\n",
    "    if probablity_rotation > 0.75:\n",
    "        image = tf.image.rot90(image, k = 3)\n",
    "    elif probablity_rotation > 0.5:\n",
    "        image = tf.image.rot90(image, k = 2)\n",
    "    elif probablity_rotation > 0.25:\n",
    "        image = tf.image.rot90(image, k = 1)\n",
    "        \n",
    "    if tf.random.uniform([], 0, 1.0, dtype = tf.float32) >= 0.4:\n",
    "        image = tf.image.random_saturation(image, lower = 0.8, upper = 1.2)\n",
    "    if tf.random.uniform([], 0, 1.0, dtype = tf.float32) >= 0.4:\n",
    "        image = tf.image.random_contrast(image, lower = 0.8, upper = 1.2)\n",
    "    if tf.random.uniform([], 0, 1.0, dtype = tf.float32) >= 0.4:\n",
    "        image = tf.image.random_brightness(image, max_delta = 0.1)\n",
    "    \n",
    "    probability_cropping = tf.random.uniform([], 0, 1.0, dtype = tf.float32)\n",
    "    if probability_cropping > 0.7:\n",
    "        if probability_cropping > 0.9:\n",
    "            image = tf.image.central_crop(image, central_fraction = 0.7)\n",
    "        elif probability_cropping > 0.8:\n",
    "            image = tf.image.central_crop(image, central_fraction = 0.8)\n",
    "        else:\n",
    "            image = tf.image.central_crop(image, central_fraction = 0.9)\n",
    "    elif probability_cropping > 0.5:\n",
    "        crop_size = tf.random.uniform([], int(img_size[0] * 0.8), img_size[0], dtype = tf.int32)\n",
    "        image = tf.image.random_crop(image, size = [crop_size, crop_size, 3])\n",
    "\n",
    "    image = tf.image.resize(image, size = img_size)\n",
    "    image = tf.reshape(image, [*img_size, 3])\n",
    "    \n",
    "    return image, label\n",
    "\n",
    "\n",
    "def get_training_dataset(tfr, batchsize, img_size=default_img_size):\n",
    "    return tfr.map(partial(get_image_and_label, train=True, img_size=img_size)).repeat().map(\n",
    "        lambda x,y: image_augmentations(x,y)).shuffle(1000).batch(batchsize).prefetch(AUTOTUNE)\n",
    "\n",
    "def get_validation_dataset(tfr, batchsize, img_size=default_img_size, train=True):\n",
    "    return tfr.map(partial(get_image_and_label, train=train, img_size=img_size)).batch(batchsize).prefetch(AUTOTUNE)\n",
    "\n",
    "# Scale normalization batch as normalization layer is after rescaling layer in b4\n",
    "def get_normalization_batch(tfr, batchsize, img_size=default_img_size):\n",
    "    return tfr.map(partial(get_image_and_label, train=True, img_size=img_size)).map(\n",
    "        lambda x,y: x/255.0).shuffle(1000).batch(batchsize).prefetch(AUTOTUNE)\n",
    "\n",
    "def get_tfrecord_size(tfrecord):\n",
    "    return sum(1 for _ in tfrecord)"
   ]
  },
  {
   "cell_type": "code",
   "execution_count": 6,
   "metadata": {
    "editable": false,
    "trusted": true
   },
   "outputs": [
    {
     "data": {
      "text/plain": [
       "[<matplotlib.lines.Line2D at 0x13986e6ed48>]"
      ]
     },
     "execution_count": 6,
     "metadata": {},
     "output_type": "execute_result"
    },
    {
     "data": {
      "image/png": "[encoded data removed]",
      "text/plain": [
       "<Figure size 640x480 with 1 Axes>"
      ]
     },
     "metadata": {},
     "output_type": "display_data"
    }
   ],
   "source": [
    "# For infos on LR scheduler please refer to https://www.kaggle.com/markwijkhuizen/tf-efficientnetb4-mixup-cutmix-gridmask-cv-0-90)\n",
    "def lrfn(epoch, bs=BATCH_SIZE, epochs=20):\n",
    "\n",
    "    LR_START = 1e-6\n",
    "    LR_MAX = 2e-4\n",
    "    LR_FINAL = 1e-6\n",
    "    LR_RAMPUP_EPOCHS = 4\n",
    "    LR_SUSTAIN_EPOCHS = 0\n",
    "    DECAY_EPOCHS = epochs  - LR_RAMPUP_EPOCHS - LR_SUSTAIN_EPOCHS - 1\n",
    "    LR_EXP_DECAY = (LR_FINAL / LR_MAX) ** (1 / (EPOCHS - LR_RAMPUP_EPOCHS - LR_SUSTAIN_EPOCHS - 1))\n",
    "\n",
    "    if epoch < LR_RAMPUP_EPOCHS:\n",
    "        lr = LR_START + (LR_MAX + LR_START) * (epoch / LR_RAMPUP_EPOCHS) ** 2.5\n",
    "    elif epoch < LR_RAMPUP_EPOCHS + LR_SUSTAIN_EPOCHS:\n",
    "        lr = LR_MAX\n",
    "    else:\n",
    "        epoch_diff = epoch - LR_RAMPUP_EPOCHS - LR_SUSTAIN_EPOCHS\n",
    "        decay_factor = (epoch_diff / DECAY_EPOCHS) * math.pi\n",
    "        decay_factor= (tf.math.cos(decay_factor).numpy() + 1) / 2        \n",
    "        lr = LR_FINAL + (LR_MAX - LR_FINAL) * decay_factor\n",
    "\n",
    "    return lr\n",
    "\n",
    "import matplotlib.pyplot as plt  \n",
    "rng = [i for i in range(EPOCHS)]\n",
    "y = [lrfn(x) for x in rng]\n",
    "plt.plot(rng, y)"
   ]
  },
  {
   "cell_type": "markdown",
   "metadata": {
    "editable": false
   },
   "source": [
    "# Efficientnet B4 with NoisyStudent weights\n",
    "EfficientNetB4 is finetuned based on pretrained NoisyStudent weights. Weights can e.g. be downloaded from the official[ Googleapi site](https://storage.googleapis.com/cloud-tpu-checkpoints/efficientnet/noisystudent/noisy_student_efficientnet-b4.tar.gz).\n",
    "The checkpoint files can be transformed to an .h5 file using the code from the [Tensorflow Github page ](https://github.com/tensorflow/tpu/tree/master/models/official/efficientnet).\n",
    "\n",
    "In the Cassava Classification Challenge, the use of NoisyStudent only led to a very small increase in performance.\n"
   ]
  },
  {
   "cell_type": "code",
   "execution_count": 7,
   "metadata": {
    "editable": false,
    "trusted": true
   },
   "outputs": [
    {
     "data": {
      "text/plain": [
       "<tensorflow.python.keras.engine.functional.Functional at 0x1397b65bfc8>"
      ]
     },
     "execution_count": 7,
     "metadata": {},
     "output_type": "execute_result"
    }
   ],
   "source": [
    "from tensorflow.keras.applications import EfficientNetB4\n",
    "\n",
    "def efficientnetb4(weights=\"../input/cassava-leaf-disease-efficientnetb4/efficientnetb4_noisystudent_notop.h5/efficientnetb4_noisystudent_notop.h5\",\n",
    "                   dropout=(0.4, 0.5)):\n",
    "    \n",
    "    keras.backend.reset_uids()\n",
    "    \n",
    "    efficientnet = EfficientNetB4(weights=weights, include_top=False,\n",
    "                                  input_shape=(*img_size, 3), drop_connect_rate=dropout[0])\n",
    "    \n",
    "    for layer in reversed(efficientnet.layers):\n",
    "        if isinstance(layer, tf.keras.layers.BatchNormalization):\n",
    "            layer.trainable = False\n",
    "        else:\n",
    "            layer.trainable = True\n",
    "    \n",
    "    inputs = keras.layers.Input(shape=(*img_size, 3))\n",
    "    \n",
    "    efficientnet = efficientnet(inputs)\n",
    "    pooling = keras.layers.GlobalAveragePooling2D()(efficientnet)\n",
    "    dropout = keras.layers.Dropout(dropout[1])(pooling)\n",
    "    outputs = keras.layers.Dense(5, activation=\"softmax\")(dropout)\n",
    "    \n",
    "    model = keras.Model(inputs=inputs, outputs=outputs)\n",
    "\n",
    "    return model\n",
    "efficientnetb4()"
   ]
  },
  {
   "cell_type": "markdown",
   "metadata": {
    "editable": false
   },
   "source": [
    "We did experiments with different approaches to handle the imbalanced and noisy data. It turned among all tested loss functions, sigmoid focal crossentropy worked best especially if combined with label smoothing (factor 0.1).\n",
    "\n",
    "You can find more info on the loss on the [TF Addon page ](https://www.tensorflow.org/addons/api_docs/python/tfa/losses/SigmoidFocalCrossEntropy)"
   ]
  },
  {
   "cell_type": "code",
   "execution_count": 8,
   "metadata": {
    "editable": false,
    "trusted": true
   },
   "outputs": [],
   "source": [
    "#@tf.function\n",
    "def sigmoid_focal_crossentropy(y_true, y_pred, alpha=0.25, gamma=2.0):\n",
    "    \n",
    "    def smooth(y, smooth_factor):\n",
    "        assert len(y.shape) == 2\n",
    "        y *= 1 - smooth_factor\n",
    "        y += smooth_factor / y.shape[1]\n",
    "        return y\n",
    "    \n",
    "    #label smoothing factor\n",
    "    FACTOR = 0.1\n",
    "    alpha_factor = 1.0\n",
    "    modulating_factor = 1.0\n",
    "\n",
    "    y_pred = tf.convert_to_tensor(y_pred)\n",
    "    y_true = tf.convert_to_tensor(smooth(y_true, FACTOR), dtype=y_pred.dtype)\n",
    "\n",
    "    ce = K.binary_crossentropy(y_true, y_pred, from_logits=False)\n",
    "\n",
    "    p_t = (y_true * y_pred) + ((1 - y_true) * (1 - y_pred))\n",
    "    \n",
    "    alpha = tf.convert_to_tensor(alpha, dtype=K.floatx())\n",
    "    alpha_factor = y_true * alpha + (1 - y_true) * (1 - alpha)\n",
    "\n",
    "    gamma = tf.convert_to_tensor(gamma, dtype=K.floatx())\n",
    "    modulating_factor = tf.pow((1.0 - p_t), gamma)\n",
    "\n",
    "    return tf.reduce_sum(alpha_factor * modulating_factor * ce, axis=-1)"
   ]
  },
  {
   "cell_type": "markdown",
   "metadata": {
    "editable": false
   },
   "source": [
    "# 5-Fold CV Training for finding best number of epochs\n",
    "We used the same CV splits for almost all models to make it easier to build and evaluate ensembles later with the OOF predictions.<br>\n",
    "<code>\n",
    "kfold = KFold(n_splits=5, shuffle=True, random_state=123)\n",
    "filenames = [train_path + f for f in os.listdir(train_path)]\n",
    "folds = {}\n",
    "for fold, (train_idx, val_idx) in enumerate(kfold.split(filenames)):\n",
    "  folds[fold] = {\"split\": (np.take(filenames, train_idx), np.take(filenames, val_idx))}\n",
    "</code>\n",
    "<br>\n",
    "Since the training lasted several hours, we performed the training for each fold individually."
   ]
  },
  {
   "cell_type": "code",
   "execution_count": 9,
   "metadata": {
    "editable": false,
    "trusted": true
   },
   "outputs": [],
   "source": [
    "ignore_order = tf.data.Options()\n",
    "ignore_order.experimental_deterministic = False\n",
    "folds = joblib.load(\"../input/cassava-leaf-disease-efficientnetb4/folds.pkl\")\n"
   ]
  },
  {
   "cell_type": "code",
   "execution_count": 16,
   "metadata": {
    "editable": false,
    "trusted": true
   },
   "outputs": [
    {
     "ename": "KeyboardInterrupt",
     "evalue": "",
     "output_type": "error",
     "traceback": [
      "\u001b[1;31m---------------------------------------------------------------------------\u001b[0m",
      "\u001b[1;31mKeyboardInterrupt\u001b[0m                         Traceback (most recent call last)",
      "\u001b[1;32m~\\AppData\\Local\\Temp\\ipykernel_23412\\2577854346.py\u001b[0m in \u001b[0;36m<module>\u001b[1;34m\u001b[0m\n\u001b[0;32m     27\u001b[0m     \u001b[0mmodel\u001b[0m \u001b[1;33m=\u001b[0m \u001b[0mefficientnetb4\u001b[0m\u001b[1;33m(\u001b[0m\u001b[1;33m)\u001b[0m\u001b[1;33m\u001b[0m\u001b[1;33m\u001b[0m\u001b[0m\n\u001b[0;32m     28\u001b[0m     \u001b[1;31m# Adapt normalization layer to mean and std of dataset\u001b[0m\u001b[1;33m\u001b[0m\u001b[1;33m\u001b[0m\u001b[1;33m\u001b[0m\u001b[0m\n\u001b[1;32m---> 29\u001b[1;33m     \u001b[0mmodel\u001b[0m\u001b[1;33m.\u001b[0m\u001b[0mget_layer\u001b[0m\u001b[1;33m(\u001b[0m\u001b[1;34m'efficientnetb4'\u001b[0m\u001b[1;33m)\u001b[0m\u001b[1;33m.\u001b[0m\u001b[0mget_layer\u001b[0m\u001b[1;33m(\u001b[0m\u001b[1;34m'normalization'\u001b[0m\u001b[1;33m)\u001b[0m\u001b[1;33m.\u001b[0m\u001b[0madapt\u001b[0m\u001b[1;33m(\u001b[0m\u001b[0mget_normalization_batch\u001b[0m\u001b[1;33m(\u001b[0m\u001b[0mtrain_records\u001b[0m\u001b[1;33m,\u001b[0m \u001b[0mBATCH_SIZE\u001b[0m\u001b[1;33m,\u001b[0m \u001b[0mimg_size\u001b[0m\u001b[1;33m)\u001b[0m\u001b[1;33m)\u001b[0m\u001b[1;33m\u001b[0m\u001b[1;33m\u001b[0m\u001b[0m\n\u001b[0m\u001b[0;32m     30\u001b[0m \u001b[1;33m\u001b[0m\u001b[0m\n\u001b[0;32m     31\u001b[0m     \u001b[0mopt\u001b[0m \u001b[1;33m=\u001b[0m \u001b[0mkeras\u001b[0m\u001b[1;33m.\u001b[0m\u001b[0moptimizers\u001b[0m\u001b[1;33m.\u001b[0m\u001b[0mAdam\u001b[0m\u001b[1;33m(\u001b[0m\u001b[0mlr\u001b[0m\u001b[1;33m=\u001b[0m\u001b[0mLR\u001b[0m\u001b[1;33m)\u001b[0m\u001b[1;33m\u001b[0m\u001b[1;33m\u001b[0m\u001b[0m\n",
      "\u001b[1;32m~\\AppData\\Roaming\\Python\\Python37\\site-packages\\tensorflow\\python\\keras\\engine\\base_preprocessing_layer.py\u001b[0m in \u001b[0;36madapt\u001b[1;34m(self, data, reset_state)\u001b[0m\n\u001b[0;32m    185\u001b[0m     \u001b[1;31m# TODO(momernick): Implement parallel processing here?\u001b[0m\u001b[1;33m\u001b[0m\u001b[1;33m\u001b[0m\u001b[1;33m\u001b[0m\u001b[0m\n\u001b[0;32m    186\u001b[0m     \u001b[1;32mtry\u001b[0m\u001b[1;33m:\u001b[0m\u001b[1;33m\u001b[0m\u001b[1;33m\u001b[0m\u001b[0m\n\u001b[1;32m--> 187\u001b[1;33m       \u001b[0mdata_element\u001b[0m \u001b[1;33m=\u001b[0m \u001b[0mnext_data\u001b[0m\u001b[1;33m(\u001b[0m\u001b[1;33m)\u001b[0m\u001b[1;33m\u001b[0m\u001b[1;33m\u001b[0m\u001b[0m\n\u001b[0m\u001b[0;32m    188\u001b[0m \u001b[1;33m\u001b[0m\u001b[0m\n\u001b[0;32m    189\u001b[0m       \u001b[1;31m# First, see if the layer is built or not. If it is not, then we must\u001b[0m\u001b[1;33m\u001b[0m\u001b[1;33m\u001b[0m\u001b[1;33m\u001b[0m\u001b[0m\n",
      "\u001b[1;32m~\\AppData\\Roaming\\Python\\Python37\\site-packages\\tensorflow\\python\\data\\ops\\iterator_ops.py\u001b[0m in \u001b[0;36mget_next\u001b[1;34m(self)\u001b[0m\n\u001b[0;32m    798\u001b[0m \u001b[1;33m\u001b[0m\u001b[0m\n\u001b[0;32m    799\u001b[0m   \u001b[1;32mdef\u001b[0m \u001b[0mget_next\u001b[0m\u001b[1;33m(\u001b[0m\u001b[0mself\u001b[0m\u001b[1;33m)\u001b[0m\u001b[1;33m:\u001b[0m\u001b[1;33m\u001b[0m\u001b[1;33m\u001b[0m\u001b[0m\n\u001b[1;32m--> 800\u001b[1;33m     \u001b[1;32mreturn\u001b[0m \u001b[0mself\u001b[0m\u001b[1;33m.\u001b[0m\u001b[0m_next_internal\u001b[0m\u001b[1;33m(\u001b[0m\u001b[1;33m)\u001b[0m\u001b[1;33m\u001b[0m\u001b[1;33m\u001b[0m\u001b[0m\n\u001b[0m\u001b[0;32m    801\u001b[0m \u001b[1;33m\u001b[0m\u001b[0m\n\u001b[0;32m    802\u001b[0m   \u001b[1;32mdef\u001b[0m \u001b[0mget_next_as_optional\u001b[0m\u001b[1;33m(\u001b[0m\u001b[0mself\u001b[0m\u001b[1;33m)\u001b[0m\u001b[1;33m:\u001b[0m\u001b[1;33m\u001b[0m\u001b[1;33m\u001b[0m\u001b[0m\n",
      "\u001b[1;32m~\\AppData\\Roaming\\Python\\Python37\\site-packages\\tensorflow\\python\\data\\ops\\iterator_ops.py\u001b[0m in \u001b[0;36m_next_internal\u001b[1;34m(self)\u001b[0m\n\u001b[0;32m    731\u001b[0m           \u001b[0mself\u001b[0m\u001b[1;33m.\u001b[0m\u001b[0m_iterator_resource\u001b[0m\u001b[1;33m,\u001b[0m\u001b[1;33m\u001b[0m\u001b[1;33m\u001b[0m\u001b[0m\n\u001b[0;32m    732\u001b[0m           \u001b[0moutput_types\u001b[0m\u001b[1;33m=\u001b[0m\u001b[0mself\u001b[0m\u001b[1;33m.\u001b[0m\u001b[0m_flat_output_types\u001b[0m\u001b[1;33m,\u001b[0m\u001b[1;33m\u001b[0m\u001b[1;33m\u001b[0m\u001b[0m\n\u001b[1;32m--> 733\u001b[1;33m           output_shapes=self._flat_output_shapes)\n\u001b[0m\u001b[0;32m    734\u001b[0m \u001b[1;33m\u001b[0m\u001b[0m\n\u001b[0;32m    735\u001b[0m       \u001b[1;32mtry\u001b[0m\u001b[1;33m:\u001b[0m\u001b[1;33m\u001b[0m\u001b[1;33m\u001b[0m\u001b[0m\n",
      "\u001b[1;32m~\\AppData\\Roaming\\Python\\Python37\\site-packages\\tensorflow\\python\\ops\\gen_dataset_ops.py\u001b[0m in \u001b[0;36miterator_get_next\u001b[1;34m(iterator, output_types, output_shapes, name)\u001b[0m\n\u001b[0;32m   2573\u001b[0m       _result = pywrap_tfe.TFE_Py_FastPathExecute(\n\u001b[0;32m   2574\u001b[0m         \u001b[0m_ctx\u001b[0m\u001b[1;33m,\u001b[0m \u001b[1;34m\"IteratorGetNext\"\u001b[0m\u001b[1;33m,\u001b[0m \u001b[0mname\u001b[0m\u001b[1;33m,\u001b[0m \u001b[0miterator\u001b[0m\u001b[1;33m,\u001b[0m \u001b[1;34m\"output_types\"\u001b[0m\u001b[1;33m,\u001b[0m \u001b[0moutput_types\u001b[0m\u001b[1;33m,\u001b[0m\u001b[1;33m\u001b[0m\u001b[1;33m\u001b[0m\u001b[0m\n\u001b[1;32m-> 2575\u001b[1;33m         \"output_shapes\", output_shapes)\n\u001b[0m\u001b[0;32m   2576\u001b[0m       \u001b[1;32mreturn\u001b[0m \u001b[0m_result\u001b[0m\u001b[1;33m\u001b[0m\u001b[1;33m\u001b[0m\u001b[0m\n\u001b[0;32m   2577\u001b[0m     \u001b[1;32mexcept\u001b[0m \u001b[0m_core\u001b[0m\u001b[1;33m.\u001b[0m\u001b[0m_NotOkStatusException\u001b[0m \u001b[1;32mas\u001b[0m \u001b[0me\u001b[0m\u001b[1;33m:\u001b[0m\u001b[1;33m\u001b[0m\u001b[1;33m\u001b[0m\u001b[0m\n",
      "\u001b[1;31mKeyboardInterrupt\u001b[0m: "
     ]
    }
   ],
   "source": [
    "cv_history = []\n",
    "\n",
    "#Considered folds of current iteration\n",
    "current_folds = [0,1,2,3,4]\n",
    "path = GCS_PATH + '/train_tfrecords/'\n",
    "\n",
    "for fold, settings in dict(map(lambda k: (k, folds[k]), current_folds)).items():\n",
    "  \n",
    "\n",
    "  #tf.tpu.experimental.initialize_tpu_system(tpu)\n",
    "\n",
    "  validation_records = tf.data.TFRecordDataset(\n",
    "      [path + f.split(\"/\")[-1] for f in settings[\"split\"][1]], num_parallel_reads=AUTOTUNE)\n",
    "    \n",
    "  train_records = tf.data.TFRecordDataset(\n",
    "      [path + f.split(\"/\")[-1] for f in settings[\"split\"][0]], num_parallel_reads=AUTOTUNE)\n",
    "  train_records = train_records.with_options(ignore_order)\n",
    "\n",
    "  validation_data = get_validation_dataset(validation_records, BATCH_SIZE, img_size, train=True) \n",
    "  train_data = get_training_dataset(train_records, BATCH_SIZE, img_size)\n",
    "  \n",
    "  train_size = get_tfrecord_size(train_records)\n",
    "  validation_size = get_tfrecord_size(validation_records)\n",
    "\n",
    "  with strategy.scope():\n",
    "    \n",
    "    model = efficientnetb4()\n",
    "    # Adapt normalization layer to mean and std of dataset\n",
    "    model.get_layer('efficientnetb4').get_layer('normalization').adapt(get_normalization_batch(train_records, BATCH_SIZE, img_size))\n",
    "    \n",
    "    opt = keras.optimizers.Adam(lr=LR)\n",
    "    model.compile(loss=sigmoid_focal_crossentropy, optimizer=opt, metrics=[\"categorical_accuracy\"])\n",
    "\n",
    "  model.summary()\n",
    "    \n",
    "  cb_checkpoint = tf.keras.callbacks.ModelCheckpoint(f\"backup_fold{fold}.h5\",monitor=\"val_categorical_accuracy\", verbose=1, save_best_only=True)\n",
    "  cb_earlystop = keras.callbacks.EarlyStopping(monitor='val_categorical_accuracy', mode='max', \n",
    "                       patience=4, restore_best_weights=True, verbose=1)\n",
    "\n",
    "  cb_lr = tf.keras.callbacks.LearningRateScheduler(lambda epoch: lrfn(epoch), verbose=1)\n",
    "\n",
    "  params = {\"epochs\":EPOCHS, \"steps_per_epoch\":train_size//BATCH_SIZE,\n",
    "            \"validation_data\": validation_data,\n",
    "            \"callbacks\": [cb_earlystop, cb_checkpoint, cb_lr]} \n",
    "  \n",
    "  print(f\"Fold: {fold}, {train_size} train images {validation_size} validation images\")\n",
    "\n",
    "  history = model.fit(train_data, **params)\n",
    "    \n",
    "  cv_history.append(history.history)"
   ]
  },
  {
   "cell_type": "markdown",
   "metadata": {
    "editable": false
   },
   "source": [
    "# Training on all data with 14 epochs\n",
    "The model for the final submission was trained with 14 epochs. We only increased the best average epoch of the CV folds by ~25% because we have more data when training without a validation set."
   ]
  },
  {
   "cell_type": "code",
   "execution_count": 17,
   "metadata": {
    "editable": false,
    "trusted": true
   },
   "outputs": [
    {
     "name": "stdout",
     "output_type": "stream",
     "text": [
      "Model: \"model\"\n",
      "_________________________________________________________________\n",
      "Layer (type)                 Output Shape              Param #   \n",
      "=================================================================\n",
      "input_2 (InputLayer)         [(None, 512, 512, 3)]     0         \n",
      "_________________________________________________________________\n",
      "efficientnetb4 (Functional)  (None, 16, 16, 1792)      17673823  \n",
      "_________________________________________________________________\n",
      "global_average_pooling2d (Gl (None, 1792)              0         \n",
      "_________________________________________________________________\n",
      "dropout (Dropout)            (None, 1792)              0         \n",
      "_________________________________________________________________\n",
      "dense (Dense)                (None, 5)                 8965      \n",
      "=================================================================\n",
      "Total params: 17,682,788\n",
      "Trainable params: 17,432,381\n",
      "Non-trainable params: 250,407\n",
      "_________________________________________________________________\n",
      "Training on whole data using 21397 images\n",
      "Epoch 1/14\n",
      "\n",
      "Epoch 00001: LearningRateScheduler reducing learning rate to 1e-06.\n",
      "1337/1337 [==============================] - 876s 632ms/step - loss: 0.1831 - categorical_accuracy: 0.5067\n",
      "Epoch 2/14\n",
      "\n",
      "Epoch 00002: LearningRateScheduler reducing learning rate to 7.28125e-06.\n",
      "1337/1337 [==============================] - 851s 636ms/step - loss: 0.1197 - categorical_accuracy: 0.7125\n",
      "Epoch 3/14\n",
      "\n",
      "Epoch 00003: LearningRateScheduler reducing learning rate to 3.6532115754624014e-05.\n",
      "1337/1337 [==============================] - 836s 625ms/step - loss: 0.0888 - categorical_accuracy: 0.8286\n",
      "Epoch 4/14\n",
      "\n",
      "Epoch 00004: LearningRateScheduler reducing learning rate to 9.89149972153781e-05.\n",
      "1337/1337 [==============================] - 833s 623ms/step - loss: 0.0824 - categorical_accuracy: 0.8487\n",
      "Epoch 5/14\n",
      "\n",
      "Epoch 00005: LearningRateScheduler reducing learning rate to 0.0002.\n",
      "1337/1337 [==============================] - 841s 629ms/step - loss: 0.0838 - categorical_accuracy: 0.8396\n",
      "Epoch 6/14\n",
      "\n",
      "Epoch 00006: LearningRateScheduler reducing learning rate to 0.0001978256887793541.\n",
      "1337/1337 [==============================] - 837s 626ms/step - loss: 0.0754 - categorical_accuracy: 0.8603\n",
      "Epoch 7/14\n",
      "\n",
      "Epoch 00007: LearningRateScheduler reducing learning rate to 0.00019139777618646623.\n",
      "1337/1337 [==============================] - 842s 629ms/step - loss: 0.0758 - categorical_accuracy: 0.8571\n",
      "Epoch 8/14\n",
      "\n",
      "Epoch 00008: LearningRateScheduler reducing learning rate to 0.00018099719175696373.\n",
      "1337/1337 [==============================] - 843s 630ms/step - loss: 0.0714 - categorical_accuracy: 0.8669\n",
      "Epoch 9/14\n",
      "\n",
      "Epoch 00009: LearningRateScheduler reducing learning rate to 0.00016707849702239037.\n",
      "1337/1337 [==============================] - 830s 621ms/step - loss: 0.0686 - categorical_accuracy: 0.8767\n",
      "Epoch 10/14\n",
      "\n",
      "Epoch 00010: LearningRateScheduler reducing learning rate to 0.00015024999703466894.\n",
      "1337/1337 [==============================] - 815s 610ms/step - loss: 0.0671 - categorical_accuracy: 0.8777\n",
      "Epoch 11/14\n",
      "\n",
      "Epoch 00011: LearningRateScheduler reducing learning rate to 0.00013124718879163266.\n",
      "1337/1337 [==============================] - 844s 632ms/step - loss: 0.0711 - categorical_accuracy: 0.8647\n",
      "Epoch 12/14\n",
      "\n",
      "Epoch 00012: LearningRateScheduler reducing learning rate to 0.00011090057775750757.\n",
      "1337/1337 [==============================] - 834s 624ms/step - loss: 0.0639 - categorical_accuracy: 0.8876\n",
      "Epoch 13/14\n",
      "\n",
      "Epoch 00013: LearningRateScheduler reducing learning rate to 9.00994133464992e-05.\n",
      "1337/1337 [==============================] - 842s 630ms/step - loss: 0.0621 - categorical_accuracy: 0.8879\n",
      "Epoch 14/14\n",
      "\n",
      "Epoch 00014: LearningRateScheduler reducing learning rate to 6.975280527770519e-05.\n",
      "1337/1337 [==============================] - 842s 627ms/step - loss: 0.0585 - categorical_accuracy: 0.8984\n"
     ]
    }
   ],
   "source": [
    "train_records = tf.data.TFRecordDataset(FILENAMES, num_parallel_reads=AUTOTUNE)\n",
    "train_records = train_records.with_options(ignore_order)\n",
    "\n",
    "train_data = get_training_dataset(train_records, BATCH_SIZE, img_size)\n",
    "train_size = get_tfrecord_size(train_records)\n",
    "train_records = tf.data.TFRecordDataset(\n",
    "      [path + f.split(\"/\")[-1] for f in settings[\"split\"][0]] + [path + f.split(\"/\")[-1] for f in settings[\"split\"][1]], num_parallel_reads=AUTOTUNE)\n",
    "train_records = train_records.with_options(ignore_order)\n",
    "trec = train_records\n",
    "\n",
    "with strategy.scope():\n",
    "    model = efficientnetb4()\n",
    "    model.get_layer('efficientnetb4').get_layer('normalization').adapt(get_normalization_batch(trec, BATCH_SIZE, img_size))\n",
    "    opt = keras.optimizers.Adam(lr=LR)\n",
    "    model.compile(loss=sigmoid_focal_crossentropy, optimizer=opt, metrics=[\"categorical_accuracy\"])\n",
    "    \n",
    "model.summary()\n",
    "\n",
    "lr_callback = tf.keras.callbacks.LearningRateScheduler(lambda epoch: lrfn(epoch), verbose=1)\n",
    "params = {\"epochs\": 14, \"steps_per_epoch\":train_size//BATCH_SIZE, \"callbacks\": [lr_callback]} \n",
    "  \n",
    "print(f\"Training on whole data using {train_size} images\")\n",
    "history = model.fit(train_data, **params)"
   ]
  },
  {
   "cell_type": "code",
   "execution_count": 2,
   "metadata": {
    "editable": false,
    "trusted": true
   },
   "outputs": [
    {
     "name": "stdout",
     "output_type": "stream",
     "text": [
      "WARNING:tensorflow:Compiled the loaded model, but the compiled metrics have yet to be built. `model.compile_metrics` will be empty until you train or evaluate the model.\n"
     ]
    },
    {
     "name": "stderr",
     "output_type": "stream",
     "text": [
      "WARNING:absl:Found untraced functions such as _jit_compiled_convolution_op, _jit_compiled_convolution_op, _jit_compiled_convolution_op, _jit_compiled_convolution_op, _jit_compiled_convolution_op while saving (showing 5 of 160). These functions will not be directly callable after loading.\n"
     ]
    },
    {
     "name": "stdout",
     "output_type": "stream",
     "text": [
      "INFO:tensorflow:Assets written to: converted_model\\assets\n"
     ]
    },
    {
     "name": "stderr",
     "output_type": "stream",
     "text": [
      "INFO:tensorflow:Assets written to: converted_model\\assets\n"
     ]
    }
   ],
   "source": [
    "from tensorflow.keras.models import load_model\n",
    "\n",
    "# 1. 在本地載入 .h5 模型（你本地環境已支援 groups=1）\n",
    "model = load_model(\"eff_B4.h5\", compile=False)\n",
    "\n",
    "# 2. 以 SavedModel 格式儲存（Keras 3 的標準格式）\n",
    "model.save(\"converted_model\", save_format=\"tf\")"
   ]
  }
 ],
 "metadata": {
  "kaggle": {
   "accelerator": "tpu1vmV38",
   "dataSources": [
    {
     "databundleVersionId": 1718836,
     "sourceId": 13836,
     "sourceType": "competition"
    },
    {
     "datasetId": 1173409,
     "sourceId": 1965208,
     "sourceType": "datasetVersion"
    }
   ],
   "dockerImageVersionId": 30299,
   "isGpuEnabled": false,
   "isInternetEnabled": true,
   "language": "python",
   "sourceType": "notebook"
  },
  "kernelspec": {
   "display_name": "DLCVFinal",
   "language": "python",
   "name": "python3"
  },
  "language_info": {
   "codemirror_mode": {
    "name": "ipython",
    "version": 3
   },
   "file_extension": ".py",
   "mimetype": "text/x-python",
   "name": "python",
   "nbconvert_exporter": "python",
   "pygments_lexer": "ipython3",
   "version": "3.7.12"
  }
 },
 "nbformat": 4,
 "nbformat_minor": 4
}
